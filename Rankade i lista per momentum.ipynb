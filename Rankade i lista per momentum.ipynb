{
 "cells": [
  {
   "cell_type": "markdown",
   "id": "ae454c2d",
   "metadata": {},
   "source": [
    "# 1. Tidsram för Analys:\n",
    "Analysen baseras på en fast sexmånadersperiod fram till det aktuella datumet. Denna period väljs för att beräkna momentum-poängen för aktierna, vilket representerar en medellång investeringshorisont.\n",
    "\n",
    "2. Beräkning av Momentum:\n",
    "Momentum-poäng: Scriptet beräknar momentum-poängen för varje aktie genom att summera de dagliga procentuella förändringarna i de justerade stängningspriserna under sexmånadersperioden. Detta tillvägagångssätt antar att aktier som har rört sig uppåt (eller nedåt) avsevärt under det förflutna kommer att fortsätta att göra det i nära framtid.\n",
    "momentum_scores = data['Adj Close'].pct_change().sum()\n",
    "\n",
    "3. Rankningsmetod:\n",
    "Efter att ha beräknat momentum-poängen rankar scriptet aktierna baserat på dessa poäng i fallande ordning. Aktier med högre positiva momentum-poäng rankas högre, vilket antyder bättre prestanda under sexmånadersperioden.\n",
    "\n",
    "4. Urval av Topptaktier:\n",
    "Topp 5 Aktier: Scriptet väljer sedan de 5 bästa aktierna med högsta momentum-poäng som de \"bästa\" aktierna.\n",
    "topp_5 = rankad_tabell.head(5)\n",
    "\n",
    "5. Ytterligare datapunkter:\n",
    "Senaste Stängningspris: Scriptet hämtar också det senaste justerade stängningspriset för varje aktie som en del av sitt resultat.\n",
    "\n",
    "6-månaders Procentuell Förändring: Momentum-poängen (summan av dagliga procentuella förändringar) omvandlas till en procentandel för att representera den totala prisförändringen under sexmånadersperioden.\n",
    "Kriteriesammanfattning:\n",
    "Det primära kriteriet för att filtrera och identifiera de bästa aktierna är momentum-poängen, som beräknas baserat på summan av dagliga procentuella förändringar i de justerade stängningspriserna över en sexmånadersperiod.\n",
    "Aktierna rankas sedan baserat på dessa momentum-poäng, där de 5 bästa anses vara de bäst presterande.\n",
    "\n",
    "Potentiella Förbättringar:\n",
    "Inkorporera andra indikatorer eller faktorer såsom Relative Strength Index (RSI), Moving Average Convergence Divergence (MACD), volym eller fundamentalanalys för att ge en mer heltäckande bild.\n",
    "Tillåt dynamiskt val av analysperiod för att anpassa sig till olika marknadsförhållanden eller investeringshorisonter.\n",
    "Implementera riskhanteringsstrategier för att mildra effekten av falska signaler eller extrema marknadsrörelser."
   ]
  },
  {
   "cell_type": "code",
   "execution_count": 3,
   "id": "bc4f59c8",
   "metadata": {},
   "outputs": [
    {
     "name": "stdout",
     "output_type": "stream",
     "text": [
      "[*********************100%%**********************]  75 of 75 completed"
     ]
    },
    {
     "name": "stderr",
     "output_type": "stream",
     "text": [
      "\n",
      "11 Failed downloads:\n",
      "['KFT', 'LLTC', 'LXK', 'TEG', 'JDSU', 'JOY', 'LUK', 'LTD']: Exception('%ticker%: No price data found, symbol may be delisted (1d 2023-10-01 -> 2024-04-01)')\n",
      "['LM', 'JEC', 'LLL']: Exception('%ticker%: No timezone found, symbol may be delisted')\n"
     ]
    },
    {
     "name": "stdout",
     "output_type": "stream",
     "text": [
      "\n",
      "Topp 5 aktierna:\n",
      "   Ticker  Momentum Score  Senaste Kurs  6 Månaders Förändring\n",
      "58   MARA        1.328414     22.580000             132.841431\n",
      "12   IBIO        0.813094      4.060000              81.309442\n",
      "64   NVDA        0.748310    903.559998              74.831042\n",
      "65   OUST        0.706973      7.940000              70.697318\n",
      "6    DKNG        0.504383     45.410000              50.438308\n",
      "\n",
      "Aktier som inte kvalade in på topp 5-listan:\n",
      "   Ticker  Momentum Score  Senaste Kurs  6 Månaders Förändring\n",
      "63   NFLX        0.499415    607.330017              49.941458\n",
      "59   META        0.496831    485.579987              49.683067\n",
      "68   PLTR        0.490383     23.010000              49.038307\n",
      "35    KEY        0.483322     15.810000              48.332154\n",
      "43    KSS        0.466656     29.150000              46.665581\n",
      "..    ...             ...           ...                    ...\n",
      "67    PFE       -0.155984     27.750000             -15.598405\n",
      "8    GEVO       -0.177033      0.770000             -17.703343\n",
      "44    LEG       -0.198588     19.150000             -19.858818\n",
      "16    IGT       -0.230020     22.590000             -23.001973\n",
      "72   TSLA       -0.305984    175.789993             -30.598388\n",
      "\n",
      "[70 rows x 4 columns]\n"
     ]
    }
   ],
   "source": [
    "import pandas as pd\n",
    "import yfinance as yf\n",
    "\n",
    "# Definiera aktier\n",
    "aktier = [\n",
    "    'AAPL', 'MSFT', 'GOOG', 'META', 'RIOT', 'MARA', 'PLTR', 'IBIO', 'MPW', 'BLNK',\n",
    "    'FSLR', 'OUST', 'DKNG', 'GEVO', 'NCNO', 'TSLA', 'AMZN', 'NFLX', 'NVDA', 'INTC',\n",
    "    'CSCO', 'CMCSA', 'PEP', 'T', 'VZ', 'GILD', 'BAC', 'WMT', 'KO', 'PFE',  'HBAN', 'ITW', 'IR', 'TEG', 'INTC', 'ICE', 'IBM', 'IFF', 'IGT', 'IP',\n",
    "    'IPG', 'INTU', 'ISRG', 'IVZ', 'IRM', 'JBL', 'JEC', 'JDSU', 'JNJ', 'JCI',\n",
    "    'JOY', 'JPM', 'JNPR', 'K', 'KEY', 'KMB', 'KIM', 'KMI', 'KLAC', 'KSS',\n",
    "    'KFT', 'KR', 'LLL', 'LH', 'LRCX', 'LM', 'LEG', 'LEN', 'LUK', 'LXK',\n",
    "    'LIFE', 'LLY', 'LTD', 'LNC', 'LLTC', 'LMT'\n",
    "]\n",
    "\n",
    "# Hämta data\n",
    "slutdatum = pd.Timestamp.today()\n",
    "startdatum = slutdatum - pd.DateOffset(months=6)  # Anpassar till 6 månader för momentum-beräkningen\n",
    "data = yf.download(aktier, start=startdatum.strftime('%Y-%m-%d'), end=slutdatum.strftime('%Y-%m-%d'))\n",
    "\n",
    "# Beräkna momentum och den senaste justerade stängningskursen\n",
    "momentum_scores = data['Adj Close'].pct_change().sum()\n",
    "sista_kurs = data['Adj Close'].iloc[-1]\n",
    "\n",
    "# Skapa en DataFrame för alla aktier rankade efter momentum\n",
    "rankad_tabell = pd.DataFrame({\n",
    "    'Ticker': momentum_scores.index,\n",
    "    'Momentum Score': momentum_scores.values,\n",
    "    'Senaste Kurs': sista_kurs.values,\n",
    "    '6 Månaders Förändring': momentum_scores.values * 100  # Konvertera till procent\n",
    "}).sort_values(by='Momentum Score', ascending=False)\n",
    "\n",
    "# Topp 5 aktier\n",
    "topp_5 = rankad_tabell.head(5)\n",
    "\n",
    "# Aktier som inte kvalade in på topp 5-listan\n",
    "inte_topp_5 = rankad_tabell.iloc[5:]\n",
    "\n",
    "# Visa topp 5 aktierna\n",
    "print(\"Topp 5 aktierna:\")\n",
    "print(topp_5)\n",
    "\n",
    "# Visa aktierna som inte kvalade in på topp 5-listan\n",
    "print(\"\\nAktier som inte kvalade in på topp 5-listan:\")\n",
    "print(inte_topp_5)\n",
    "\n"
   ]
  },
  {
   "cell_type": "code",
   "execution_count": null,
   "id": "2830390d",
   "metadata": {},
   "outputs": [],
   "source": []
  }
 ],
 "metadata": {
  "kernelspec": {
   "display_name": "Python 3 (ipykernel)",
   "language": "python",
   "name": "python3"
  },
  "language_info": {
   "codemirror_mode": {
    "name": "ipython",
    "version": 3
   },
   "file_extension": ".py",
   "mimetype": "text/x-python",
   "name": "python",
   "nbconvert_exporter": "python",
   "pygments_lexer": "ipython3",
   "version": "3.10.9"
  }
 },
 "nbformat": 4,
 "nbformat_minor": 5
}
